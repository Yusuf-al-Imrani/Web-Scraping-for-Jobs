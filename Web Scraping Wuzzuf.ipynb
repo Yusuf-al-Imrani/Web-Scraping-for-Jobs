{
 "cells": [
  {
   "cell_type": "markdown",
   "metadata": {},
   "source": [
    "#### Importing the needed Libraries"
   ]
  },
  {
   "cell_type": "code",
   "execution_count": 1,
   "metadata": {},
   "outputs": [],
   "source": [
    "# Importing the needed Libraries\n",
    "import requests\n",
    "from bs4 import BeautifulSoup \n",
    "import lxml\n",
    "import csv"
   ]
  },
  {
   "cell_type": "markdown",
   "metadata": {},
   "source": [
    "#### Creating a function to scrape a website "
   ]
  },
  {
   "cell_type": "code",
   "execution_count": 2,
   "metadata": {},
   "outputs": [
    {
     "name": "stdout",
     "output_type": "stream",
     "text": [
      "Enter job title:data scientist\n"
     ]
    }
   ],
   "source": [
    "# Prompt user to enter the job title \n",
    "job_name = input(\"Enter job title:\")\n",
    "\n",
    "# embedding the job title to the webpage url\n",
    "page = f\"https://wuzzuf.net/search/jobs/?q={job_name}&a=hpb\"\n",
    "\n",
    "# Send a GET requres to the webpage\n",
    "response = requests.get(page)\n",
    "\n",
    "# Check if the webpage is accessable or not\n",
    "response\n",
    "\n",
    "# Parse the HTML content using BeautifulSoup \n",
    "soup =  BeautifulSoup(response.content, \"lxml\")\n",
    "\n",
    "#data scientist"
   ]
  },
  {
   "cell_type": "code",
   "execution_count": 3,
   "metadata": {},
   "outputs": [
    {
     "data": {
      "text/plain": [
       "<Response [200]>"
      ]
     },
     "execution_count": 3,
     "metadata": {},
     "output_type": "execute_result"
    }
   ],
   "source": [
    "# Check if the webpage is accessable or not\n",
    "response"
   ]
  },
  {
   "cell_type": "code",
   "execution_count": 4,
   "metadata": {},
   "outputs": [],
   "source": [
    "import os\n",
    "# url = \"https://wuzzuf.net/search/jobs/?q=big+data+engineer&a=h\n",
    "# define a function to do the piece of work\n",
    "def scraping(soup):\n",
    "    \n",
    "    # Find all job listings on the page\n",
    "    job_listings = soup.find_all('div',{\"class\":\"css-1gatmva\"})\n",
    "\n",
    "    # Create a list to store the job details\n",
    "    jobs = []\n",
    "    \n",
    "    # embedding the job title to the webpage url\n",
    "    page = f\"https://wuzzuf.net/search/jobs/?q={job_name}&a=hpb\"\n",
    "    \n",
    "    # Send a GET requres to the webpage\n",
    "    response = requests.get(page)\n",
    "    \n",
    "    # Parse the HTML content using BeautifulSoup \n",
    "    soup =  BeautifulSoup(response.content, \"lxml\")\n",
    "    \n",
    "    # Find all job listings on the page\n",
    "    job_listings = soup.find_all('div',{\"class\":\"css-1gatmva\"})\n",
    "\n",
    "    # Create a list to store the job details\n",
    "    jobs = []\n",
    "    \n",
    "    # Loop over teh job listings and extract the details\n",
    "    for listing in job_listings:\n",
    "        job_title = listing.find_next(\"h2\").find_next(\"a\").text\n",
    "        company_name_0 = listing.find_next(\"div\", {\"class\":\"css-d7j1kk\"}).find_next(\"a\").text\n",
    "        company_name = company_name_0[:-2]\n",
    "        job_location = listing.find_next(\"div\").find_next(\"a\").find_next(\"span\").text\n",
    "        job_time = listing.find_next(\"div\", {\"class\":\"css-do6t5g\"}).text\n",
    "        \n",
    "        # Getting the 2nd part of the job link\n",
    "        job_link_part = listing.find(\"a\", {\"class\":\"css-o171kl\"})[\"href\"]        \n",
    "        job_link = \"https://wuzzuf.net\"+job_link_part\n",
    "        \n",
    "        # Create a dictionary to store the job details\n",
    "        job = {\"Job Title\":job_title, \"Company Name\":company_name,\n",
    "              \"Job Location\":job_location, \"Job Time\":job_time,\n",
    "              \"Job Link\":job_link}\n",
    "        \n",
    "        # Add the job details to the jobs list\n",
    "        jobs.append(job)\n",
    "    \n",
    "    # Getting the dictinary keys to use it for the csv file\n",
    "    keys = jobs[0].keys()\n",
    "    print(jobs[0][\"Company Name\"])\n",
    "    \n",
    "    # naming the csv file with the job title name\n",
    "    file_name = f\"{job_name}.csv\"\n",
    "    \n",
    "    path = \"C:\\\\Users\\\\yusuf\\\\Data Science\\\\Study\\\\Route Ai\"+\"\\/\"+file_name\n",
    "    #assert os.path.isfile(path)    \n",
    "    #'data Scientist job scraped.csv'\n",
    "    # save the job details to csv file\n",
    "    with open(path, 'w', newline=\"\") as csv_file:\n",
    "        dict_writer= csv.DictWriter(csv_file, fieldnames=keys)\n",
    "        dict_writer.writeheader()\n",
    "        for job in jobs:\n",
    "            dict_writer.writerow(job)\n",
    "\n",
    "        # To make sure csv file is created    \n",
    "        print(f\"Jobs saved to file {file_name}\") "
   ]
  },
  {
   "cell_type": "markdown",
   "metadata": {},
   "source": [
    "#### Calling the function to do the scraping and store data in csv file"
   ]
  },
  {
   "cell_type": "code",
   "execution_count": 5,
   "metadata": {
    "scrolled": false
   },
   "outputs": [
    {
     "name": "stdout",
     "output_type": "stream",
     "text": [
      "Seoudi Supermarket\n",
      "Jobs saved to file data scientist.csv\n"
     ]
    }
   ],
   "source": [
    "# Calling the function that scrape the job details\n",
    "scraping(soup)\n",
    "\n",
    "#data scientist"
   ]
  }
 ],
 "metadata": {
  "kernelspec": {
   "display_name": "Python 3",
   "language": "python",
   "name": "python3"
  },
  "language_info": {
   "codemirror_mode": {
    "name": "ipython",
    "version": 3
   },
   "file_extension": ".py",
   "mimetype": "text/x-python",
   "name": "python",
   "nbconvert_exporter": "python",
   "pygments_lexer": "ipython3",
   "version": "3.7.6"
  }
 },
 "nbformat": 4,
 "nbformat_minor": 4
}
